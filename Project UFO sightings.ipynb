{
 "cells": [
  {
   "cell_type": "code",
   "execution_count": 0,
   "metadata": {
    "application/vnd.databricks.v1+cell": {
     "cellMetadata": {
      "byteLimit": 2048000,
      "rowLimit": 10000
     },
     "inputWidgets": {},
     "nuid": "2893aee2-4f69-4851-9dbc-987f156ceca0",
     "showTitle": true,
     "title": "Mounting"
    }
   },
   "outputs": [],
   "source": [
    "dbutils.fs.mount(\n",
    "    source='wasbs://ufo-data@moviesdataharry.blob.core.windows.net',\n",
    "    mount_point='/mnt/ufo-data',\n",
    "    extra_configs = {'fs.azure.account.key.moviesdataharry.blob.core.windows.net': dbutils.secrets.get('projectmoviesscope', 'storageAccountKey')}\n",
    ")"
   ]
  },
  {
   "cell_type": "code",
   "execution_count": 0,
   "metadata": {
    "application/vnd.databricks.v1+cell": {
     "cellMetadata": {
      "byteLimit": 2048000,
      "rowLimit": 10000
     },
     "inputWidgets": {},
     "nuid": "ed3aa7df-e427-462c-b395-6f4cefa2d067",
     "showTitle": true,
     "title": "Listing files/folders within UFO blob container "
    }
   },
   "outputs": [],
   "source": [
    "%fs\n",
    "ls \"/mnt/ufo-data\""
   ]
  },
  {
   "cell_type": "code",
   "execution_count": 0,
   "metadata": {
    "application/vnd.databricks.v1+cell": {
     "cellMetadata": {
      "byteLimit": 2048000,
      "rowLimit": 10000
     },
     "inputWidgets": {},
     "nuid": "e291fe1f-a12b-4878-a3f2-7f4bda136a5a",
     "showTitle": true,
     "title": "Read ufo_sightings_transformed.csv file with Spark and loading into variable"
    }
   },
   "outputs": [],
   "source": [
    "ufo = spark.read.format(\"csv\").option(\"header\",\"true\").load(\"/mnt/ufo-data/raw-data/ufo-sightings-transformed.csv \")"
   ]
  },
  {
   "cell_type": "code",
   "execution_count": 0,
   "metadata": {
    "application/vnd.databricks.v1+cell": {
     "cellMetadata": {
      "byteLimit": 2048000,
      "rowLimit": 10000
     },
     "inputWidgets": {},
     "nuid": "bd2c3d81-9735-4563-9511-20dbc6fbb446",
     "showTitle": true,
     "title": "Show 1st 15 UFO sightings using new variable"
    }
   },
   "outputs": [],
   "source": [
    "ufo.limit(15).show()"
   ]
  },
  {
   "cell_type": "code",
   "execution_count": 0,
   "metadata": {
    "application/vnd.databricks.v1+cell": {
     "cellMetadata": {
      "byteLimit": 2048000,
      "rowLimit": 10000
     },
     "inputWidgets": {},
     "nuid": "6a849db3-4502-4a0d-96ee-3dd71847d5c5",
     "showTitle": true,
     "title": "Displaying UFO dataframe structure"
    }
   },
   "outputs": [],
   "source": [
    "ufo.printSchema()"
   ]
  },
  {
   "cell_type": "code",
   "execution_count": 0,
   "metadata": {
    "application/vnd.databricks.v1+cell": {
     "cellMetadata": {
      "byteLimit": 2048000,
      "rowLimit": 10000
     },
     "inputWidgets": {},
     "nuid": "b33a08af-c30e-48e2-a582-6354df43d1bc",
     "showTitle": true,
     "title": "Imports for referencing columns and their data types"
    }
   },
   "outputs": [],
   "source": [
    "from pyspark.sql.functions import col\n",
    "from pyspark.sql.types import IntegerType, DoubleType, BooleanType, DateType"
   ]
  },
  {
   "cell_type": "code",
   "execution_count": 0,
   "metadata": {
    "application/vnd.databricks.v1+cell": {
     "cellMetadata": {
      "byteLimit": 2048000,
      "rowLimit": 10000
     },
     "inputWidgets": {},
     "nuid": "69a8461d-c1b1-4ed2-ba6b-f7ee58c7e9b6",
     "showTitle": true,
     "title": "Ensuring Encounter_Duration in the UFO dataframe are interpreted as integers"
    }
   },
   "outputs": [],
   "source": [
    "ufo = ufo.withColumn(\"Encounter_Duration\", col(\"Encounter_Duration\").cast(IntegerType()))"
   ]
  },
  {
   "cell_type": "markdown",
   "metadata": {
    "application/vnd.databricks.v1+cell": {
     "cellMetadata": {},
     "inputWidgets": {},
     "nuid": "dda77a86-1453-48ef-a791-a80c94540806",
     "showTitle": false,
     "title": ""
    }
   },
   "source": [
    "#### Casting the \"Year\" column to DateType() is not appropriate because \"Year\" is typically represented as an integer in datasets, not a date. Casting it to DateType() would result in an error."
   ]
  },
  {
   "cell_type": "code",
   "execution_count": 0,
   "metadata": {
    "application/vnd.databricks.v1+cell": {
     "cellMetadata": {
      "byteLimit": 2048000,
      "rowLimit": 10000
     },
     "inputWidgets": {},
     "nuid": "61e06ec8-571f-40c1-8d73-5ad4f25f6485",
     "showTitle": false,
     "title": ""
    }
   },
   "outputs": [],
   "source": [
    "ufo = ufo.withColumn(\"Year\", col(\"Year\").cast(IntegerType()))"
   ]
  },
  {
   "cell_type": "code",
   "execution_count": 0,
   "metadata": {
    "application/vnd.databricks.v1+cell": {
     "cellMetadata": {
      "byteLimit": 2048000,
      "rowLimit": 10000
     },
     "inputWidgets": {},
     "nuid": "30621599-5bf4-4f96-9967-e5dae9a7d59e",
     "showTitle": true,
     "title": "Converting date_documented column to a date format as a new column"
    }
   },
   "outputs": [],
   "source": [
    "from pyspark.sql import functions as F\n",
    "ufo= ufo.withColumn('date_documented',F.to_date(ufo.date_documented))"
   ]
  },
  {
   "cell_type": "code",
   "execution_count": 0,
   "metadata": {
    "application/vnd.databricks.v1+cell": {
     "cellMetadata": {
      "byteLimit": 2048000,
      "rowLimit": 10000
     },
     "inputWidgets": {},
     "nuid": "d733e339-e652-4771-8d67-44824dd5328b",
     "showTitle": false,
     "title": ""
    }
   },
   "outputs": [],
   "source": [
    "ufo.write.mode(\"overwrite\").option(\"header\",'true').csv(\"/mnt/ufo-data/transformed/ufo\")"
   ]
  },
  {
   "cell_type": "code",
   "execution_count": 0,
   "metadata": {
    "application/vnd.databricks.v1+cell": {
     "cellMetadata": {
      "byteLimit": 2048000,
      "rowLimit": 10000
     },
     "inputWidgets": {},
     "nuid": "33669f77-c767-4c2a-9676-1310e3b03c81",
     "showTitle": true,
     "title": "Run SQL queries against the dataframe using Spark SQL"
    }
   },
   "outputs": [],
   "source": [
    "# Register the DataFrame as a temporary table to run SQL queries\n",
    "ufo.createOrReplaceTempView(\"ufo_table\")\n",
    "\n",
    "# Example query: Get the count of UFO sightings per country\n",
    "result = spark.sql(\"\"\"\n",
    "    SELECT Country, COUNT(*) as CountOfSightings\n",
    "    FROM ufo_table\n",
    "    GROUP BY Country\n",
    "    ORDER BY CountOfSightings DESC\n",
    "\"\"\")\n",
    "result.show()"
   ]
  },
  {
   "cell_type": "markdown",
   "metadata": {
    "application/vnd.databricks.v1+cell": {
     "cellMetadata": {},
     "inputWidgets": {},
     "nuid": "1d278271-b457-4835-b00f-c05dfb6ed78b",
     "showTitle": false,
     "title": ""
    }
   },
   "source": [
    "#### The three quotation marks (\"*\") are used to show a multi-line string literal in Python. This allows you to write a string that covers multiple lines without having to use newline characters (\\n)."
   ]
  },
  {
   "cell_type": "code",
   "execution_count": 0,
   "metadata": {
    "application/vnd.databricks.v1+cell": {
     "cellMetadata": {
      "byteLimit": 2048000,
      "rowLimit": 10000
     },
     "inputWidgets": {},
     "nuid": "a9dedb65-ecd1-4aa7-9336-95c90b8f4c15",
     "showTitle": false,
     "title": ""
    }
   },
   "outputs": [],
   "source": [
    "# Example query: Find the average length of UFO encounters per UFO shape\n",
    "result = spark.sql(\"\"\"\n",
    "    SELECT UFO_shape, AVG(length_of_encounter_seconds) as AvgEncounterLength\n",
    "    FROM ufo_table\n",
    "    GROUP BY UFO_shape\n",
    "    ORDER BY AvgEncounterLength DESC\n",
    "\"\"\")\n",
    "result.show()"
   ]
  },
  {
   "cell_type": "code",
   "execution_count": 0,
   "metadata": {
    "application/vnd.databricks.v1+cell": {
     "cellMetadata": {
      "byteLimit": 2048000,
      "rowLimit": 10000
     },
     "inputWidgets": {},
     "nuid": "fa519246-6308-42ef-b8d0-e4bae355bbf5",
     "showTitle": true,
     "title": "Finding the average length of UFO encounters per UFO shape"
    }
   },
   "outputs": [
    {
     "output_type": "display_data",
     "data": {
      "text/plain": [
       "Databricks visualization. Run in Databricks to view."
      ]
     },
     "metadata": {
      "application/vnd.databricks.v1.subcommand+json": {
       "baseErrorDetails": null,
       "bindings": {},
       "collapsed": false,
       "command": "%python\n__backend_agg_display_orig = display\n__backend_agg_dfs = []\ndef __backend_agg_display_new(df):\n    __backend_agg_df_modules = [\"pandas.core.frame\", \"databricks.koalas.frame\", \"pyspark.sql.dataframe\", \"pyspark.pandas.frame\", \"pyspark.sql.connect.dataframe\"]\n    if (type(df).__module__ in __backend_agg_df_modules and type(df).__name__ == 'DataFrame') or isinstance(df, list):\n        __backend_agg_dfs.append(df)\n\ndisplay = __backend_agg_display_new\n\ndef __backend_agg_user_code_fn():\n    import base64\n    exec(base64.standard_b64decode(\"dWZvLmNyZWF0ZU9yUmVwbGFjZVRlbXBWaWV3KCJ1Zm9fdGFibGUiKQoKIyBFeGFtcGxlIHF1ZXJ5OiBGaW5kIHRoZSBhdmVyYWdlIGxlbmd0aCBvZiBVRk8gZW5jb3VudGVycyBwZXIgVUZPIHNoYXBlCnJlc3VsdCA9IHNwYXJrLnNxbCgiIiIKICAgIFNFTEVDVCBVRk9fc2hhcGUsIEFWRyhsZW5ndGhfb2ZfZW5jb3VudGVyX3NlY29uZHMpIGFzIEF2Z0VuY291bnRlckxlbmd0aAogICAgRlJPTSB1Zm9fdGFibGUKICAgIEdST1VQIEJZIFVGT19zaGFwZQogICAgT1JERVIgQlkgQXZnRW5jb3VudGVyTGVuZ3RoIERFU0MKIiIiKQoKIyBEaXNwbGF5IHRoZSByZXN1bHQgYXMgYSBiYXIgY2hhcnQKZGlzcGxheShyZXN1bHQp\").decode())\n\ntry:\n    # run user code\n    __backend_agg_user_code_fn()\n\n    #reset display function\n    display = __backend_agg_display_orig\n\n    if len(__backend_agg_dfs) > 0:\n        # create a temp view\n        if type(__backend_agg_dfs[0]).__module__ == \"databricks.koalas.frame\":\n            # koalas dataframe\n            __backend_agg_dfs[0].to_spark().createOrReplaceTempView(\"DatabricksView7c74362\")\n        elif type(__backend_agg_dfs[0]).__module__ == \"pandas.core.frame\" or isinstance(__backend_agg_dfs[0], list):\n            # pandas dataframe\n            spark.createDataFrame(__backend_agg_dfs[0]).createOrReplaceTempView(\"DatabricksView7c74362\")\n        else:\n            __backend_agg_dfs[0].createOrReplaceTempView(\"DatabricksView7c74362\")\n        #run backend agg\n        display(spark.sql(\"\"\"WITH q AS (select * from DatabricksView7c74362) SELECT `UFO_shape`,SUM(`AvgEncounterLength`) `column_19c8f34a2` FROM q GROUP BY `UFO_shape`\"\"\"))\n    else:\n        displayHTML(\"dataframe no longer exists. If you're using dataframe.display(), use display(dataframe) instead.\")\n\n\nfinally:\n    spark.sql(\"drop view if exists DatabricksView7c74362\")\n    display = __backend_agg_display_orig\n    del __backend_agg_display_new\n    del __backend_agg_display_orig\n    del __backend_agg_dfs\n    del __backend_agg_user_code_fn\n\n",
       "commandTitle": "Visualization 1",
       "commandType": "auto",
       "commandVersion": 0,
       "commentThread": [],
       "commentsVisible": false,
       "contentSha256Hex": null,
       "customPlotOptions": {
        "redashChart": [
         {
          "key": "type",
          "value": "CHART"
         },
         {
          "key": "options",
          "value": {
           "alignYAxesAtZero": true,
           "coefficient": 1,
           "columnConfigurationMap": {
            "x": {
             "column": "UFO_shape",
             "id": "column_19c8f34a1"
            },
            "y": [
             {
              "column": "AvgEncounterLength",
              "id": "column_19c8f34a2",
              "transform": "SUM"
             }
            ]
           },
           "dateTimeFormat": "DD/MM/YYYY HH:mm",
           "direction": {
            "type": "counterclockwise"
           },
           "error_y": {
            "type": "data",
            "visible": true
           },
           "globalSeriesType": "column",
           "isAggregationOn": true,
           "legend": {
            "traceorder": "normal"
           },
           "missingValuesAsZero": true,
           "numberFormat": "0,0.[00000]",
           "percentFormat": "0[.]00%",
           "series": {
            "error_y": {
             "type": "data",
             "visible": true
            },
            "stacking": null
           },
           "seriesOptions": {
            "column_19c8f34a2": {
             "color": "#00A972",
             "name": "AvgEncounterLength",
             "yAxis": 0
            }
           },
           "showDataLabels": false,
           "sizemode": "diameter",
           "sortX": true,
           "sortY": true,
           "swappedAxes": true,
           "textFormat": "",
           "useAggregationsUi": true,
           "valuesOptions": {},
           "version": 2,
           "xAxis": {
            "labels": {
             "enabled": true
            },
            "type": "-"
           },
           "yAxis": [
            {
             "type": "-"
            },
            {
             "opposite": true,
             "type": "-"
            }
           ]
          }
         }
        ]
       },
       "datasetPreviewNameToCmdIdMap": {},
       "diffDeletes": [],
       "diffInserts": [],
       "displayType": "redashChart",
       "error": null,
       "errorDetails": null,
       "errorSummary": null,
       "errorTraceType": null,
       "finishTime": 0,
       "globalVars": {},
       "guid": "",
       "height": "auto",
       "hideCommandCode": false,
       "hideCommandResult": false,
       "iPythonMetadata": null,
       "inputWidgets": {},
       "isLockedInExamMode": false,
       "latestUser": "a user",
       "latestUserId": null,
       "listResultMetadata": null,
       "metadata": {},
       "nuid": "04af692a-3a9b-4902-a350-36921bf87907",
       "origId": 0,
       "parentHierarchy": [],
       "pivotAggregation": null,
       "pivotColumns": null,
       "position": 14.0,
       "resultDbfsErrorMessage": null,
       "resultDbfsStatus": "INLINED_IN_TREE",
       "results": null,
       "showCommandTitle": false,
       "startTime": 0,
       "state": "input",
       "streamStates": {},
       "subcommandOptions": {
        "queryPlan": {
         "groups": [
          {
           "column": "UFO_shape",
           "type": "column"
          }
         ],
         "selects": [
          {
           "column": "UFO_shape",
           "type": "column"
          },
          {
           "alias": "column_19c8f34a2",
           "args": [
            {
             "column": "AvgEncounterLength",
             "type": "column"
            }
           ],
           "function": "SUM",
           "type": "function"
          }
         ]
        }
       },
       "submitTime": 0,
       "subtype": "tableResultSubCmd.visualization",
       "tableResultIndex": 0,
       "useConsistentColors": false,
       "version": "CommandV1",
       "width": "auto",
       "workflows": null,
       "xColumns": null,
       "yColumns": null
      }
     },
     "output_type": "display_data"
    }
   ],
   "source": [
    "ufo.createOrReplaceTempView(\"ufo_table\")\n",
    "\n",
    "# Example query: Find the average length of UFO encounters per UFO shape\n",
    "result = spark.sql(\"\"\"\n",
    "    SELECT UFO_shape, AVG(length_of_encounter_seconds) as AvgEncounterLength\n",
    "    FROM ufo_table\n",
    "    GROUP BY UFO_shape\n",
    "    ORDER BY AvgEncounterLength DESC\n",
    "\"\"\")\n",
    "\n",
    "# Display the result as a bar chart\n",
    "display(result)"
   ]
  },
  {
   "cell_type": "code",
   "execution_count": 0,
   "metadata": {
    "application/vnd.databricks.v1+cell": {
     "cellMetadata": {
      "byteLimit": 2048000,
      "rowLimit": 10000
     },
     "inputWidgets": {},
     "nuid": "f2e778e6-c1fe-431b-9073-61c1cba91087",
     "showTitle": true,
     "title": "Counting the occurrences of each UFO shape"
    }
   },
   "outputs": [
    {
     "output_type": "display_data",
     "data": {
      "text/plain": [
       "Databricks visualization. Run in Databricks to view."
      ]
     },
     "metadata": {
      "application/vnd.databricks.v1.subcommand+json": {
       "baseErrorDetails": null,
       "bindings": {},
       "collapsed": false,
       "command": "%python\n__backend_agg_display_orig = display\n__backend_agg_dfs = []\ndef __backend_agg_display_new(df):\n    __backend_agg_df_modules = [\"pandas.core.frame\", \"databricks.koalas.frame\", \"pyspark.sql.dataframe\", \"pyspark.pandas.frame\", \"pyspark.sql.connect.dataframe\"]\n    if (type(df).__module__ in __backend_agg_df_modules and type(df).__name__ == 'DataFrame') or isinstance(df, list):\n        __backend_agg_dfs.append(df)\n\ndisplay = __backend_agg_display_new\n\ndef __backend_agg_user_code_fn():\n    import base64\n    exec(base64.standard_b64decode(\"IyBDb3VudCB0aGUgb2NjdXJyZW5jZXMgb2YgZWFjaCBVRk8gc2hhcGUKc2hhcGVfY291bnRzID0gdWZvLmdyb3VwQnkoIlVGT19zaGFwZSIpLmNvdW50KCkub3JkZXJCeSgiY291bnQiLCBhc2NlbmRpbmc9RmFsc2UpCgojIERpc3BsYXkgdGhlIGRpc3RyaWJ1dGlvbiBvZiBVRk8gc2hhcGVzIGFzIGEgcGllIGNoYXJ0CmRpc3BsYXkoc2hhcGVfY291bnRzKQ==\").decode())\n\ntry:\n    # run user code\n    __backend_agg_user_code_fn()\n\n    #reset display function\n    display = __backend_agg_display_orig\n\n    if len(__backend_agg_dfs) > 0:\n        # create a temp view\n        if type(__backend_agg_dfs[0]).__module__ == \"databricks.koalas.frame\":\n            # koalas dataframe\n            __backend_agg_dfs[0].to_spark().createOrReplaceTempView(\"DatabricksViewa96c511\")\n        elif type(__backend_agg_dfs[0]).__module__ == \"pandas.core.frame\" or isinstance(__backend_agg_dfs[0], list):\n            # pandas dataframe\n            spark.createDataFrame(__backend_agg_dfs[0]).createOrReplaceTempView(\"DatabricksViewa96c511\")\n        else:\n            __backend_agg_dfs[0].createOrReplaceTempView(\"DatabricksViewa96c511\")\n        #run backend agg\n        display(spark.sql(\"\"\"WITH q AS (select * from DatabricksViewa96c511) SELECT `UFO_shape`,SUM(`count`) `column_19c8f34a6` FROM q GROUP BY `UFO_shape`\"\"\"))\n    else:\n        displayHTML(\"dataframe no longer exists. If you're using dataframe.display(), use display(dataframe) instead.\")\n\n\nfinally:\n    spark.sql(\"drop view if exists DatabricksViewa96c511\")\n    display = __backend_agg_display_orig\n    del __backend_agg_display_new\n    del __backend_agg_display_orig\n    del __backend_agg_dfs\n    del __backend_agg_user_code_fn\n\n",
       "commandTitle": "Visualization 1",
       "commandType": "auto",
       "commandVersion": 0,
       "commentThread": [],
       "commentsVisible": false,
       "contentSha256Hex": null,
       "customPlotOptions": {
        "redashChart": [
         {
          "key": "type",
          "value": "CHART"
         },
         {
          "key": "options",
          "value": {
           "alignYAxesAtZero": true,
           "coefficient": 1,
           "columnConfigurationMap": {
            "x": {
             "column": "UFO_shape",
             "id": "column_19c8f34a5"
            },
            "y": [
             {
              "column": "count",
              "id": "column_19c8f34a6",
              "transform": "SUM"
             }
            ]
           },
           "dateTimeFormat": "DD/MM/YYYY HH:mm",
           "direction": {
            "type": "counterclockwise"
           },
           "error_y": {
            "type": "data",
            "visible": true
           },
           "globalSeriesType": "pie",
           "legend": {
            "traceorder": "normal"
           },
           "missingValuesAsZero": true,
           "numberFormat": "0,0.[00000]",
           "percentFormat": "0[.]00%",
           "series": {
            "error_y": {
             "type": "data",
             "visible": true
            },
            "stacking": null
           },
           "seriesOptions": {
            "column_19c8f34a6": {
             "name": "count",
             "type": "pie",
             "yAxis": 0
            }
           },
           "showDataLabels": true,
           "sizemode": "diameter",
           "sortX": true,
           "sortY": true,
           "swappedAxes": false,
           "textFormat": "",
           "useAggregationsUi": true,
           "valuesOptions": {},
           "version": 2,
           "xAxis": {
            "labels": {
             "enabled": true
            },
            "type": "-"
           },
           "yAxis": [
            {
             "type": "-"
            },
            {
             "opposite": true,
             "type": "-"
            }
           ]
          }
         }
        ]
       },
       "datasetPreviewNameToCmdIdMap": {},
       "diffDeletes": [],
       "diffInserts": [],
       "displayType": "redashChart",
       "error": null,
       "errorDetails": null,
       "errorSummary": null,
       "errorTraceType": null,
       "finishTime": 0,
       "globalVars": {},
       "guid": "",
       "height": "auto",
       "hideCommandCode": false,
       "hideCommandResult": false,
       "iPythonMetadata": null,
       "inputWidgets": {},
       "isLockedInExamMode": false,
       "latestUser": "a user",
       "latestUserId": null,
       "listResultMetadata": null,
       "metadata": {},
       "nuid": "4d27c846-6f95-4770-8db5-9d40d735e0db",
       "origId": 0,
       "parentHierarchy": [],
       "pivotAggregation": null,
       "pivotColumns": null,
       "position": 15.0,
       "resultDbfsErrorMessage": null,
       "resultDbfsStatus": "INLINED_IN_TREE",
       "results": null,
       "showCommandTitle": false,
       "startTime": 0,
       "state": "input",
       "streamStates": {},
       "subcommandOptions": {
        "queryPlan": {
         "groups": [
          {
           "column": "UFO_shape",
           "type": "column"
          }
         ],
         "selects": [
          {
           "column": "UFO_shape",
           "type": "column"
          },
          {
           "alias": "column_19c8f34a6",
           "args": [
            {
             "column": "count",
             "type": "column"
            }
           ],
           "function": "SUM",
           "type": "function"
          }
         ]
        }
       },
       "submitTime": 0,
       "subtype": "tableResultSubCmd.visualization",
       "tableResultIndex": 0,
       "useConsistentColors": false,
       "version": "CommandV1",
       "width": "auto",
       "workflows": null,
       "xColumns": null,
       "yColumns": null
      }
     },
     "output_type": "display_data"
    }
   ],
   "source": [
    "# Count the occurrences of each UFO shape\n",
    "shape_counts = ufo.groupBy(\"UFO_shape\").count().orderBy(\"count\", ascending=False)\n",
    "\n",
    "# Display the distribution of UFO shapes as a pie chart\n",
    "display(shape_counts)"
   ]
  },
  {
   "cell_type": "code",
   "execution_count": 0,
   "metadata": {
    "application/vnd.databricks.v1+cell": {
     "cellMetadata": {
      "byteLimit": 2048000,
      "rowLimit": 10000
     },
     "inputWidgets": {},
     "nuid": "88e997bb-d3e9-4310-9b39-7a539f01720c",
     "showTitle": true,
     "title": "Counting the number of UFO sightings per country"
    }
   },
   "outputs": [
    {
     "output_type": "display_data",
     "data": {
      "text/plain": [
       "Databricks visualization. Run in Databricks to view."
      ]
     },
     "metadata": {
      "application/vnd.databricks.v1.subcommand+json": {
       "baseErrorDetails": null,
       "bindings": {},
       "collapsed": false,
       "command": "%python\n__backend_agg_display_orig = display\n__backend_agg_dfs = []\ndef __backend_agg_display_new(df):\n    __backend_agg_df_modules = [\"pandas.core.frame\", \"databricks.koalas.frame\", \"pyspark.sql.dataframe\", \"pyspark.pandas.frame\", \"pyspark.sql.connect.dataframe\"]\n    if (type(df).__module__ in __backend_agg_df_modules and type(df).__name__ == 'DataFrame') or isinstance(df, list):\n        __backend_agg_dfs.append(df)\n\ndisplay = __backend_agg_display_new\n\ndef __backend_agg_user_code_fn():\n    import base64\n    exec(base64.standard_b64decode(\"IyBDb3VudCB0aGUgbnVtYmVyIG9mIFVGTyBzaWdodGluZ3MgcGVyIGNvdW50cnkKc2lnaHRpbmdzX3Blcl9jb3VudHJ5ID0gdWZvLmdyb3VwQnkoIkNvdW50cnkiKS5jb3VudCgpLm9yZGVyQnkoImNvdW50IiwgYXNjZW5kaW5nPUZhbHNlKQoKIyBEaXNwbGF5IHRoZSBVRk8gc2lnaHRpbmdzIGNvdW50IHBlciBjb3VudHJ5IGFzIGEgYmFyIGNoYXJ0CmRpc3BsYXkocmVzdWx0KQ==\").decode())\n\ntry:\n    # run user code\n    __backend_agg_user_code_fn()\n\n    #reset display function\n    display = __backend_agg_display_orig\n\n    if len(__backend_agg_dfs) > 0:\n        # create a temp view\n        if type(__backend_agg_dfs[0]).__module__ == \"databricks.koalas.frame\":\n            # koalas dataframe\n            __backend_agg_dfs[0].to_spark().createOrReplaceTempView(\"DatabricksView55315bc\")\n        elif type(__backend_agg_dfs[0]).__module__ == \"pandas.core.frame\" or isinstance(__backend_agg_dfs[0], list):\n            # pandas dataframe\n            spark.createDataFrame(__backend_agg_dfs[0]).createOrReplaceTempView(\"DatabricksView55315bc\")\n        else:\n            __backend_agg_dfs[0].createOrReplaceTempView(\"DatabricksView55315bc\")\n        #run backend agg\n        display(spark.sql(\"\"\"WITH q AS (select * from DatabricksView55315bc) SELECT `UFO_shape`,SUM(`AvgEncounterLength`) `column_19c8f34a9` FROM q GROUP BY `UFO_shape`\"\"\"))\n    else:\n        displayHTML(\"dataframe no longer exists. If you're using dataframe.display(), use display(dataframe) instead.\")\n\n\nfinally:\n    spark.sql(\"drop view if exists DatabricksView55315bc\")\n    display = __backend_agg_display_orig\n    del __backend_agg_display_new\n    del __backend_agg_display_orig\n    del __backend_agg_dfs\n    del __backend_agg_user_code_fn\n\n",
       "commandTitle": "Visualization 1",
       "commandType": "auto",
       "commandVersion": 0,
       "commentThread": [],
       "commentsVisible": false,
       "contentSha256Hex": null,
       "customPlotOptions": {
        "redashChart": [
         {
          "key": "type",
          "value": "CHART"
         },
         {
          "key": "options",
          "value": {
           "alignYAxesAtZero": true,
           "coefficient": 1,
           "columnConfigurationMap": {
            "x": {
             "column": "UFO_shape",
             "id": "column_19c8f34a8"
            },
            "y": [
             {
              "column": "AvgEncounterLength",
              "id": "column_19c8f34a9",
              "transform": "SUM"
             }
            ]
           },
           "dateTimeFormat": "DD/MM/YYYY HH:mm",
           "direction": {
            "type": "counterclockwise"
           },
           "error_y": {
            "type": "data",
            "visible": true
           },
           "globalSeriesType": "column",
           "isAggregationOn": true,
           "legend": {
            "traceorder": "normal"
           },
           "missingValuesAsZero": true,
           "numberFormat": "0,0.[00000]",
           "percentFormat": "0[.]00%",
           "series": {
            "error_y": {
             "type": "data",
             "visible": true
            },
            "stacking": null
           },
           "seriesOptions": {
            "column_19c8f34a9": {
             "color": "#8BCAE7",
             "name": "AvgEncounterLength",
             "yAxis": 0
            }
           },
           "showDataLabels": false,
           "sizemode": "diameter",
           "sortX": true,
           "sortY": true,
           "swappedAxes": true,
           "textFormat": "",
           "useAggregationsUi": true,
           "valuesOptions": {},
           "version": 2,
           "xAxis": {
            "labels": {
             "enabled": true
            },
            "type": "-"
           },
           "yAxis": [
            {
             "type": "-"
            },
            {
             "opposite": true,
             "type": "-"
            }
           ]
          }
         }
        ]
       },
       "datasetPreviewNameToCmdIdMap": {},
       "diffDeletes": [],
       "diffInserts": [],
       "displayType": "redashChart",
       "error": null,
       "errorDetails": null,
       "errorSummary": null,
       "errorTraceType": null,
       "finishTime": 0,
       "globalVars": {},
       "guid": "",
       "height": "auto",
       "hideCommandCode": false,
       "hideCommandResult": false,
       "iPythonMetadata": null,
       "inputWidgets": {},
       "isLockedInExamMode": false,
       "latestUser": "a user",
       "latestUserId": null,
       "listResultMetadata": null,
       "metadata": {},
       "nuid": "85245e1f-9188-47d2-9129-059a3b243937",
       "origId": 0,
       "parentHierarchy": [],
       "pivotAggregation": null,
       "pivotColumns": null,
       "position": 16.0,
       "resultDbfsErrorMessage": null,
       "resultDbfsStatus": "INLINED_IN_TREE",
       "results": null,
       "showCommandTitle": false,
       "startTime": 0,
       "state": "input",
       "streamStates": {},
       "subcommandOptions": {
        "queryPlan": {
         "groups": [
          {
           "column": "UFO_shape",
           "type": "column"
          }
         ],
         "selects": [
          {
           "column": "UFO_shape",
           "type": "column"
          },
          {
           "alias": "column_19c8f34a9",
           "args": [
            {
             "column": "AvgEncounterLength",
             "type": "column"
            }
           ],
           "function": "SUM",
           "type": "function"
          }
         ]
        }
       },
       "submitTime": 0,
       "subtype": "tableResultSubCmd.visualization",
       "tableResultIndex": 0,
       "useConsistentColors": false,
       "version": "CommandV1",
       "width": "auto",
       "workflows": null,
       "xColumns": null,
       "yColumns": null
      }
     },
     "output_type": "display_data"
    }
   ],
   "source": [
    "# Count the number of UFO sightings per country\n",
    "sightings_per_country = ufo.groupBy(\"Country\").count().orderBy(\"count\", ascending=False)\n",
    "\n",
    "# Display the UFO sightings count per country as a bar chart\n",
    "display(result)"
   ]
  },
  {
   "cell_type": "code",
   "execution_count": 0,
   "metadata": {
    "application/vnd.databricks.v1+cell": {
     "cellMetadata": {
      "byteLimit": 2048000,
      "rowLimit": 10000
     },
     "inputWidgets": {},
     "nuid": "8b2eb146-62f6-4b12-885d-46aca4552c14",
     "showTitle": true,
     "title": "Finding the longest UFO encounter for each country"
    }
   },
   "outputs": [
    {
     "output_type": "display_data",
     "data": {
      "text/plain": [
       "Databricks visualization. Run in Databricks to view."
      ]
     },
     "metadata": {
      "application/vnd.databricks.v1.subcommand+json": {
       "baseErrorDetails": null,
       "bindings": {},
       "collapsed": false,
       "command": "%python\n__backend_agg_display_orig = display\n__backend_agg_dfs = []\ndef __backend_agg_display_new(df):\n    __backend_agg_df_modules = [\"pandas.core.frame\", \"databricks.koalas.frame\", \"pyspark.sql.dataframe\", \"pyspark.pandas.frame\", \"pyspark.sql.connect.dataframe\"]\n    if (type(df).__module__ in __backend_agg_df_modules and type(df).__name__ == 'DataFrame') or isinstance(df, list):\n        __backend_agg_dfs.append(df)\n\ndisplay = __backend_agg_display_new\n\ndef __backend_agg_user_code_fn():\n    import base64\n    exec(base64.standard_b64decode(\"ZnJvbSBweXNwYXJrLnNxbC5mdW5jdGlvbnMgaW1wb3J0IGRlc2MKCiMgRmluZCB0aGUgbG9uZ2VzdCBVRk8gZW5jb3VudGVyIGZvciBlYWNoIGNvdW50cnkKbG9uZ2VzdF9lbmNvdW50ZXJfcGVyX2NvdW50cnkgPSB1Zm8uZ3JvdXBCeSgiQ291bnRyeSIpLmFnZyh7Imxlbmd0aF9vZl9lbmNvdW50ZXJfc2Vjb25kcyI6ICJtYXgifSkgXAogICAgLndpdGhDb2x1bW5SZW5hbWVkKCJtYXgobGVuZ3RoX29mX2VuY291bnRlcl9zZWNvbmRzKSIsICJMb25nZXN0X0VuY291bnRlcl9TZWNvbmRzIikgXAogICAgLm9yZGVyQnkoZGVzYygiTG9uZ2VzdF9FbmNvdW50ZXJfU2Vjb25kcyIpKQoKIyBEaXNwbGF5IHRoZSBsb25nZXN0IFVGTyBlbmNvdW50ZXJzIHBlciBjb3VudHJ5IGFzIGEgYmFyIGNoYXJ0CmRpc3BsYXkobG9uZ2VzdF9lbmNvdW50ZXJfcGVyX2NvdW50cnkp\").decode())\n\ntry:\n    # run user code\n    __backend_agg_user_code_fn()\n\n    #reset display function\n    display = __backend_agg_display_orig\n\n    if len(__backend_agg_dfs) > 0:\n        # create a temp view\n        if type(__backend_agg_dfs[0]).__module__ == \"databricks.koalas.frame\":\n            # koalas dataframe\n            __backend_agg_dfs[0].to_spark().createOrReplaceTempView(\"DatabricksView5e26273\")\n        elif type(__backend_agg_dfs[0]).__module__ == \"pandas.core.frame\" or isinstance(__backend_agg_dfs[0], list):\n            # pandas dataframe\n            spark.createDataFrame(__backend_agg_dfs[0]).createOrReplaceTempView(\"DatabricksView5e26273\")\n        else:\n            __backend_agg_dfs[0].createOrReplaceTempView(\"DatabricksView5e26273\")\n        #run backend agg\n        display(spark.sql(\"\"\"WITH q AS (select * from DatabricksView5e26273) SELECT `Country`,COUNT(`Longest_Encounter_Seconds`) `column_cee50efe13`,`Longest_Encounter_Seconds` FROM q GROUP BY `Country`,`Longest_Encounter_Seconds`\"\"\"))\n    else:\n        displayHTML(\"dataframe no longer exists. If you're using dataframe.display(), use display(dataframe) instead.\")\n\n\nfinally:\n    spark.sql(\"drop view if exists DatabricksView5e26273\")\n    display = __backend_agg_display_orig\n    del __backend_agg_display_new\n    del __backend_agg_display_orig\n    del __backend_agg_dfs\n    del __backend_agg_user_code_fn\n\n",
       "commandTitle": "Visualization 1",
       "commandType": "auto",
       "commandVersion": 0,
       "commentThread": [],
       "commentsVisible": false,
       "contentSha256Hex": null,
       "customPlotOptions": {
        "redashChart": [
         {
          "key": "type",
          "value": "CHART"
         },
         {
          "key": "options",
          "value": {
           "alignYAxesAtZero": true,
           "coefficient": 1,
           "columnConfigurationMap": {
            "series": {
             "column": "Longest_Encounter_Seconds",
             "id": "column_cee50efe12"
            },
            "x": {
             "column": "Longest_Encounter_Seconds",
             "id": "column_cee50efe28"
            },
            "y": [
             {
              "column": "Country",
              "id": "column_cee50efe13",
              "transform": "COUNT"
             }
            ]
           },
           "dateTimeFormat": "DD/MM/YYYY HH:mm",
           "direction": {
            "type": "counterclockwise"
           },
           "error_y": {
            "type": "data",
            "visible": true
           },
           "globalSeriesType": "column",
           "isAggregationOn": true,
           "legend": {
            "traceorder": "normal"
           },
           "missingValuesAsZero": true,
           "numberFormat": "0,0.[00000]",
           "percentFormat": "0[.]00%",
           "series": {
            "error_y": {
             "type": "data",
             "visible": true
            },
            "stacking": ""
           },
           "seriesOptions": {
            "column_cee50efe13": {
             "type": "column",
             "yAxis": 0
            }
           },
           "showDataLabels": false,
           "sizemode": "diameter",
           "sortX": true,
           "sortY": true,
           "swappedAxes": false,
           "textFormat": "",
           "useAggregationsUi": true,
           "valuesOptions": {},
           "version": 2,
           "xAxis": {
            "labels": {
             "enabled": true
            },
            "type": "-"
           },
           "yAxis": [
            {
             "type": "-"
            },
            {
             "opposite": true,
             "type": "-"
            }
           ]
          }
         }
        ]
       },
       "datasetPreviewNameToCmdIdMap": {},
       "diffDeletes": [],
       "diffInserts": [],
       "displayType": "redashChart",
       "error": null,
       "errorDetails": null,
       "errorSummary": null,
       "errorTraceType": null,
       "finishTime": 0,
       "globalVars": {},
       "guid": "",
       "height": "auto",
       "hideCommandCode": false,
       "hideCommandResult": false,
       "iPythonMetadata": null,
       "inputWidgets": {},
       "isLockedInExamMode": false,
       "latestUser": "a user",
       "latestUserId": null,
       "listResultMetadata": null,
       "metadata": {},
       "nuid": "c9ae58f0-65c5-4063-9fa5-206f769a5245",
       "origId": 0,
       "parentHierarchy": [],
       "pivotAggregation": null,
       "pivotColumns": null,
       "position": 17.0,
       "resultDbfsErrorMessage": null,
       "resultDbfsStatus": "INLINED_IN_TREE",
       "results": null,
       "showCommandTitle": false,
       "startTime": 0,
       "state": "input",
       "streamStates": {},
       "subcommandOptions": {
        "queryPlan": {
         "groups": [
          {
           "column": "Longest_Encounter_Seconds",
           "type": "column"
          },
          {
           "column": "Longest_Encounter_Seconds",
           "type": "column"
          }
         ],
         "selects": [
          {
           "column": "Longest_Encounter_Seconds",
           "type": "column"
          },
          {
           "alias": "column_cee50efe13",
           "args": [
            {
             "column": "Country",
             "type": "column"
            }
           ],
           "function": "COUNT",
           "type": "function"
          },
          {
           "column": "Longest_Encounter_Seconds",
           "type": "column"
          }
         ]
        }
       },
       "submitTime": 0,
       "subtype": "tableResultSubCmd.visualization",
       "tableResultIndex": 0,
       "useConsistentColors": false,
       "version": "CommandV1",
       "width": "auto",
       "workflows": null,
       "xColumns": null,
       "yColumns": null
      }
     },
     "output_type": "display_data"
    }
   ],
   "source": [
    "from pyspark.sql.functions import desc\n",
    "\n",
    "# Find the longest UFO encounter for each country\n",
    "longest_encounter_per_country = ufo.groupBy(\"Country\").agg({\"length_of_encounter_seconds\": \"max\"}) \\\n",
    "    .withColumnRenamed(\"max(length_of_encounter_seconds)\", \"Longest_Encounter_Seconds\") \\\n",
    "    .orderBy(desc(\"Longest_Encounter_Seconds\"))\n",
    "\n",
    "# Display the longest UFO encounters per country as a bar chart\n",
    "display(longest_encounter_per_country)"
   ]
  },
  {
   "cell_type": "code",
   "execution_count": 0,
   "metadata": {
    "application/vnd.databricks.v1+cell": {
     "cellMetadata": {
      "byteLimit": 2048000,
      "rowLimit": 10000
     },
     "inputWidgets": {},
     "nuid": "579eb50c-8131-47e4-9fed-bf79fa8a1de3",
     "showTitle": true,
     "title": "Display UFO sightings on a map, filtered out invalid/missing location data"
    }
   },
   "outputs": [],
   "source": [
    "# Filter out rows with missing or invalid latitude/longitude values\n",
    "valid_location_data = ufo.filter((col(\"latitude\").isNotNull()) & (col(\"longitude\").isNotNull()))\n",
    "\n",
    "# Select columns for mapping\n",
    "locations = valid_location_data.select(\"latitude\", \"longitude\", \"Country\")\n",
    "\n",
    "# Display the UFO sightings on a map\n",
    "display(locations)"
   ]
  },
  {
   "cell_type": "code",
   "execution_count": 0,
   "metadata": {
    "application/vnd.databricks.v1+cell": {
     "cellMetadata": {
      "byteLimit": 2048000,
      "rowLimit": 10000
     },
     "inputWidgets": {},
     "nuid": "3afab26c-30d3-463a-afe5-a43441a715f2",
     "showTitle": true,
     "title": "Casting to DoubleType() instead of floats for data analysis, map will not show them as floats"
    }
   },
   "outputs": [],
   "source": [
    "ufo = ufo.withColumn(\"latitude\", col(\"latitude\").cast(DoubleType()))\n",
    "ufo = ufo.withColumn(\"longitude\", col(\"longitude\").cast(DoubleType()))"
   ]
  },
  {
   "cell_type": "code",
   "execution_count": 0,
   "metadata": {
    "application/vnd.databricks.v1+cell": {
     "cellMetadata": {
      "byteLimit": 2048000,
      "rowLimit": 10000
     },
     "inputWidgets": {},
     "nuid": "e3a354db-ccc3-4899-a394-43a0539ce29c",
     "showTitle": false,
     "title": ""
    }
   },
   "outputs": [],
   "source": [
    "ufo.write.mode(\"overwrite\").option(\"header\",'true').csv(\"/mnt/ufo-data/transformed/ufo\")"
   ]
  },
  {
   "cell_type": "code",
   "execution_count": 0,
   "metadata": {
    "application/vnd.databricks.v1+cell": {
     "cellMetadata": {
      "byteLimit": 2048000,
      "rowLimit": 10000
     },
     "inputWidgets": {},
     "nuid": "81fb826f-160e-4aba-976d-4fffda922615",
     "showTitle": false,
     "title": ""
    }
   },
   "outputs": [],
   "source": [
    "# Filter out rows with missing or invalid latitude/longitude values\n",
    "valid_location_data = ufo.filter((col(\"latitude\").isNotNull()) & (col(\"longitude\").isNotNull()))\n",
    "\n",
    "# Select necessary columns for mapping\n",
    "locations = valid_location_data.select(\"latitude\", \"longitude\", \"Country\")\n",
    "\n",
    "# Display the UFO sightings on a map\n",
    "display(locations)"
   ]
  },
  {
   "cell_type": "code",
   "execution_count": 0,
   "metadata": {
    "application/vnd.databricks.v1+cell": {
     "cellMetadata": {
      "byteLimit": 2048000,
      "rowLimit": 10000
     },
     "inputWidgets": {},
     "nuid": "925681a9-e97a-48c5-8be7-5da02829db2e",
     "showTitle": false,
     "title": ""
    }
   },
   "outputs": [
    {
     "output_type": "display_data",
     "data": {
      "text/plain": [
       "Databricks visualization. Run in Databricks to view."
      ]
     },
     "metadata": {
      "application/vnd.databricks.v1.subcommand+json": {
       "baseErrorDetails": null,
       "bindings": {},
       "collapsed": false,
       "command": "# Filter out rows with missing or invalid latitude/longitude values\nvalid_location_data = ufo.filter((col(\"latitude\").isNotNull()) & (col(\"longitude\").isNotNull()))\n\n# Select necessary columns for mapping\nlocations = valid_location_data.select(\"latitude\", \"longitude\", \"Country\")\n\n# Display the UFO sightings on a map\ndisplay(locations)",
       "commandTitle": "Visualization 1",
       "commandType": "auto",
       "commandVersion": 0,
       "commentThread": [],
       "commentsVisible": false,
       "contentSha256Hex": null,
       "customPlotOptions": {
        "redashChart": [
         {
          "key": "type",
          "value": "MAP"
         },
         {
          "key": "options",
          "value": {
           "backgroundColor": "#356AFF",
           "borderColor": "#356AFF",
           "bounds": null,
           "classify": "Country",
           "clusterMarkers": true,
           "customizeMarkers": false,
           "foregroundColor": "#ffffff",
           "groups": {},
           "iconFont": "circle",
           "iconShape": "marker",
           "latColName": "latitude",
           "lonColName": "longitude",
           "mapTileUrl": "//{s}.tile.openstreetmap.org/{z}/{x}/{y}.png",
           "popup": {
            "enabled": true,
            "template": ""
           },
           "tooltip": {
            "enabled": false,
            "template": ""
           }
          }
         }
        ]
       },
       "datasetPreviewNameToCmdIdMap": {},
       "diffDeletes": [],
       "diffInserts": [],
       "displayType": "redashChart",
       "error": null,
       "errorDetails": null,
       "errorSummary": null,
       "errorTraceType": null,
       "finishTime": 0,
       "globalVars": {},
       "guid": "",
       "height": "auto",
       "hideCommandCode": false,
       "hideCommandResult": false,
       "iPythonMetadata": null,
       "inputWidgets": {},
       "isLockedInExamMode": false,
       "latestUser": "a user",
       "latestUserId": null,
       "listResultMetadata": null,
       "metadata": {},
       "nuid": "3d594b6c-95d9-4074-b211-47ed8e86de67",
       "origId": 0,
       "parentHierarchy": [],
       "pivotAggregation": null,
       "pivotColumns": null,
       "position": 21.0,
       "resultDbfsErrorMessage": null,
       "resultDbfsStatus": "INLINED_IN_TREE",
       "results": null,
       "showCommandTitle": false,
       "startTime": 0,
       "state": "input",
       "streamStates": {},
       "subcommandOptions": {},
       "submitTime": 0,
       "subtype": "tableResultSubCmd.visualization",
       "tableResultIndex": 0,
       "useConsistentColors": false,
       "version": "CommandV1",
       "width": "auto",
       "workflows": null,
       "xColumns": null,
       "yColumns": null
      }
     },
     "output_type": "display_data"
    }
   ],
   "source": [
    "# Filter out rows with missing or invalid latitude/longitude values\n",
    "valid_location_data = ufo.filter((col(\"latitude\").isNotNull()) & (col(\"longitude\").isNotNull()))\n",
    "\n",
    "# Select necessary columns for mapping\n",
    "locations = valid_location_data.select(\"latitude\", \"longitude\", \"Country\")\n",
    "\n",
    "# Display the UFO sightings on a map\n",
    "display(locations)"
   ]
  }
 ],
 "metadata": {
  "application/vnd.databricks.v1+notebook": {
   "dashboards": [],
   "language": "python",
   "notebookMetadata": {
    "mostRecentlyExecutedCommandWithImplicitDF": {
     "commandId": 4176163594854184,
     "dataframes": [
      "_sqldf"
     ]
    },
    "pythonIndentUnit": 4
   },
   "notebookName": "Project UFO sightings",
   "widgets": {}
  }
 },
 "nbformat": 4,
 "nbformat_minor": 0
}
